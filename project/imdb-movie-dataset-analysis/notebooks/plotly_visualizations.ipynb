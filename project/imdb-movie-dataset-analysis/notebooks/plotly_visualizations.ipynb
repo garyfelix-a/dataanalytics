{
 "cells": [
  {
   "cell_type": "code",
   "execution_count": 10,
   "id": "dbafda67-6049-4357-92b6-83f7894c0306",
   "metadata": {},
   "outputs": [],
   "source": [
    "import pandas as pd\n",
    "import numpy as np\n",
    "import plotly.express as px\n",
    "import plotly.graph_objects as go\n",
    "import os\n",
    "import mysql.connector\n",
    "from dotenv import load_dotenv\n",
    "from sqlalchemy import create_engine"
   ]
  },
  {
   "cell_type": "code",
   "execution_count": 2,
   "id": "453de1ac-54ad-476f-9464-70289026c243",
   "metadata": {},
   "outputs": [
    {
     "data": {
      "text/plain": [
       "True"
      ]
     },
     "execution_count": 2,
     "metadata": {},
     "output_type": "execute_result"
    }
   ],
   "source": [
    "load_dotenv()"
   ]
  },
  {
   "cell_type": "code",
   "execution_count": 14,
   "id": "6e3fcd07-a46c-4eb4-9669-0e45a5682775",
   "metadata": {},
   "outputs": [],
   "source": [
    "def load_data():\n",
    "    host = os.getenv(\"DB_HOST\")\n",
    "    user = os.getenv(\"DB_USER\")\n",
    "    password = os.getenv(\"DB_PASSWORD\")\n",
    "    database = os.getenv(\"DB_NAME\")\n",
    "\n",
    "    # conn = mysql.connector.connect(\n",
    "    #     host = host,\n",
    "    #     user = user,\n",
    "    #     password = password,\n",
    "    #     database = database\n",
    "    # )\n",
    "\n",
    "    engine = create_engine(f\"mysql+pymysql://{user}:{password}@{host}/{database}\")\n",
    "\n",
    "    query = \"SELECT * FROM top_1000_movies\"\n",
    "    df = pd.read_sql(query, engine)\n",
    "    # conn.close()\n",
    "    return df"
   ]
  },
  {
   "cell_type": "code",
   "execution_count": 15,
   "id": "df4e721e-ac16-4720-bc8e-e2e3838e7354",
   "metadata": {},
   "outputs": [],
   "source": [
    "# output path for visualization(image, html)\n",
    "output_dir = \"C:/Users/Sharley Angel/OneDrive/Desktop/Git-training/dataanalytics/project/imdb-movie-dataset-analysis/outputs/jupyter_results\"\n",
    "os.makedirs(output_dir, exist_ok=True)\n",
    "\n",
    "def save_plot(fig, name):\n",
    "    html_path = os.path.join(output_dir, f\"{name}.html\")\n",
    "    png_path = os.path.join(output_dir, f\"{name}.png\")\n",
    "    fig.write_html(html_path)\n",
    "    fig.write_image(png_path)\n",
    "    print(f\"Saved: {name}.html and {name}.png\")"
   ]
  },
  {
   "cell_type": "code",
   "execution_count": 16,
   "id": "276df0c8-389c-4f02-a6db-b024fa4b7b82",
   "metadata": {},
   "outputs": [],
   "source": [
    "# load data\n",
    "df = load_data()"
   ]
  },
  {
   "cell_type": "code",
   "execution_count": 18,
   "id": "ad125071-020f-4a53-b016-b47c761fc29a",
   "metadata": {},
   "outputs": [
    {
     "name": "stdout",
     "output_type": "stream",
     "text": [
      "Saved: decade_votes.html and decade_votes.png\n"
     ]
    }
   ],
   "source": [
    "# decade wise total number of votes\n",
    "df['decade'] = (df['released_year'] // 10) * 10\n",
    "decade_votes = df.groupby('decade')['no_of_votes'].sum().reset_index()\n",
    "fig1 = px.bar(decade_votes, x='decade', y='no_of_votes', text='no_of_votes', title='Decade-wise Total number of Votes')\n",
    "fig1.update_traces(texttemplate='%{text:.2s}', textposition='outside')\n",
    "fig1.update_layout(xaxis_title=\"Decade\", yaxis_title=\"Total Votes\")\n",
    "save_plot(fig1, \"decade_votes\")"
   ]
  },
  {
   "cell_type": "code",
   "execution_count": null,
   "id": "c9f4f4f8-c01a-498e-a0d7-73f9144eff38",
   "metadata": {},
   "outputs": [],
   "source": []
  }
 ],
 "metadata": {
  "kernelspec": {
   "display_name": "Python 3 (ipykernel)",
   "language": "python",
   "name": "python3"
  },
  "language_info": {
   "codemirror_mode": {
    "name": "ipython",
    "version": 3
   },
   "file_extension": ".py",
   "mimetype": "text/x-python",
   "name": "python",
   "nbconvert_exporter": "python",
   "pygments_lexer": "ipython3",
   "version": "3.10.7"
  }
 },
 "nbformat": 4,
 "nbformat_minor": 5
}
